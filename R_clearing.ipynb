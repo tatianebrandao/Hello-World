{
  "nbformat": 4,
  "nbformat_minor": 0,
  "metadata": {
    "colab": {
      "name": "R clearing.ipynb",
      "provenance": [],
      "toc_visible": true,
      "authorship_tag": "ABX9TyOFk/b/eX0FT91AAcSKY4MW",
      "include_colab_link": true
    },
    "kernelspec": {
      "name": "ir",
      "display_name": "R"
    },
    "language_info": {
      "name": "R"
    }
  },
  "cells": [
    {
      "cell_type": "markdown",
      "metadata": {
        "id": "view-in-github",
        "colab_type": "text"
      },
      "source": [
        "<a href=\"https://colab.research.google.com/github/tatianebrandao/Hello-World/blob/main/R_clearing.ipynb\" target=\"_parent\"><img src=\"https://colab.research.google.com/assets/colab-badge.svg\" alt=\"Open In Colab\"/></a>"
      ]
    },
    {
      "cell_type": "markdown",
      "metadata": {
        "id": "90n96c-xx-pw"
      },
      "source": [
        "**Libraries**"
      ]
    },
    {
      "cell_type": "code",
      "metadata": {
        "id": "iH0SRnPpjMGx"
      },
      "source": [
        "library(readxl)"
      ],
      "execution_count": 2,
      "outputs": []
    },
    {
      "cell_type": "markdown",
      "metadata": {
        "id": "_R8dFwvkmTLk"
      },
      "source": [
        "**POS DATA Worksheet**"
      ]
    },
    {
      "cell_type": "code",
      "metadata": {
        "id": "CWLOZSjdjQ3z"
      },
      "source": [
        "Posdata <- read_excel(\"Data.xlsx\", sheet = 1, col_names = TRUE)"
      ],
      "execution_count": 31,
      "outputs": []
    },
    {
      "cell_type": "code",
      "metadata": {
        "colab": {
          "base_uri": "https://localhost:8080/"
        },
        "id": "SG6GD4TbmaD7",
        "outputId": "a5f08911-058f-4df4-bf64-bd0219285695"
      },
      "source": [
        "str(Posdata)"
      ],
      "execution_count": 32,
      "outputs": [
        {
          "output_type": "stream",
          "text": [
            "tibble [235,474 × 6] (S3: tbl_df/tbl/data.frame)\n",
            " $ Basket_ID: num [1:235474] 1.10e+09 1.10e+09 1.09e+09 1.11e+09 1.11e+09 ...\n",
            " $ Date     : num [1:235474] 41379 41381 41346 41388 41395 ...\n",
            " $ Barcode  : num [1:235474] 8.00e+11 5.20e+11 5.20e+11 2.11e+11 5.20e+11 ...\n",
            " $ Sum_Units: num [1:235474] 2 1 6 1 2 1 1 1 1 1 ...\n",
            " $ Sum_Value: num [1:235474] 1.96 5.35 1.74 0.75 0.6 ...\n",
            " $ Card_ID  : chr [1:235474] \"9160003751260\" \"9164001986624\" \"9164012915385\" \"9162005811409\" ...\n"
          ],
          "name": "stdout"
        }
      ]
    },
    {
      "cell_type": "markdown",
      "metadata": {
        "id": "uG5kiVDql7VB"
      },
      "source": [
        "**Loyalty Worksheet**"
      ]
    },
    {
      "cell_type": "code",
      "metadata": {
        "id": "cJpzn47ekrMc"
      },
      "source": [
        "Loyalty = read_excel(\"Data.xlsx\", sheet = 2, col_names = TRUE)"
      ],
      "execution_count": 33,
      "outputs": []
    },
    {
      "cell_type": "code",
      "metadata": {
        "colab": {
          "base_uri": "https://localhost:8080/"
        },
        "id": "jXckLAqzmFZX",
        "outputId": "91a20aee-4eff-4290-c472-c766319aebb1"
      },
      "source": [
        "str(Loyalty)"
      ],
      "execution_count": 34,
      "outputs": [
        {
          "output_type": "stream",
          "text": [
            "tibble [191,129 × 6] (S3: tbl_df/tbl/data.frame)\n",
            " $ CardholderID : num [1:191129] 9.16e+12 9.16e+12 9.16e+12 9.16e+12 9.16e+12 ...\n",
            " $ Age          : chr [1:191129] \"51\" \"72\" \"60\" \"NULL\" ...\n",
            " $ Gender       : chr [1:191129] \"Male\" \"Female\" \"Female\" \"Female\" ...\n",
            " $ MaritalStatus: chr [1:191129] \"Single (Alone)\" NA NA \"Married\" ...\n",
            " $ HouseholdSize: chr [1:191129] \"1\" \"2\" \"1\" \"5\" ...\n",
            " $ Children     : chr [1:191129] \"0\" \"0\" \"0\" \"NULL\" ...\n"
          ],
          "name": "stdout"
        }
      ]
    },
    {
      "cell_type": "markdown",
      "metadata": {
        "id": "qxfgOI8umniC"
      },
      "source": [
        "**Barcodes worksheet**"
      ]
    },
    {
      "cell_type": "code",
      "metadata": {
        "id": "EFiEcobUlar8"
      },
      "source": [
        "Barcodes = read_excel(\"Data.xlsx\", sheet = 3, col_names = TRUE)"
      ],
      "execution_count": 29,
      "outputs": []
    },
    {
      "cell_type": "code",
      "metadata": {
        "colab": {
          "base_uri": "https://localhost:8080/"
        },
        "id": "haDlhsXwmjE6",
        "outputId": "386c2e04-3dfe-4160-a64d-9f23bc58223d"
      },
      "source": [
        "str(Barcodes)"
      ],
      "execution_count": 35,
      "outputs": [
        {
          "output_type": "stream",
          "text": [
            "tibble [9,322 × 5] (S3: tbl_df/tbl/data.frame)\n",
            " $ Barcode  : num [1:9322] 3.61e+11 5.01e+11 5.20e+11 4.01e+11 2.10e+11 ...\n",
            " $ CategoryA: num [1:9322] 60 10 30 10 20 10 10 10 10 30 ...\n",
            " $ CategoryB: num [1:9322] 60 12 21 12 51 14 12 12 12 21 ...\n",
            " $ CategoryC: num [1:9322] 767 287 3 286 110 216 287 286 285 8 ...\n",
            " $ CategoryD: num [1:9322] 2 2 3 2 1 2 4 7 4 4 ...\n"
          ],
          "name": "stdout"
        }
      ]
    },
    {
      "cell_type": "markdown",
      "metadata": {
        "id": "AQKzgggunAHP"
      },
      "source": [
        "**Product worksheet**"
      ]
    },
    {
      "cell_type": "code",
      "metadata": {
        "id": "3lXqmwqgm6zi"
      },
      "source": [
        "Product = read_excel(\"Data.xlsx\", sheet = 4, col_names = TRUE)"
      ],
      "execution_count": 37,
      "outputs": []
    },
    {
      "cell_type": "code",
      "metadata": {
        "colab": {
          "base_uri": "https://localhost:8080/",
          "height": 1000
        },
        "id": "9428VxMxxkIy",
        "outputId": "21d83e9a-0a2b-4371-9163-7e187d3f8403"
      },
      "source": [
        "Product"
      ],
      "execution_count": 38,
      "outputs": [
        {
          "output_type": "display_data",
          "data": {
            "text/plain": [
              "    CategoryA CategoryB CategoryBDescription CategoryC CategoryCDescription\n",
              "1   10        11        DRINKS               261       BEVERAGES           \n",
              "2   10        11        DRINKS               261       BEVERAGES           \n",
              "3   10        11        DRINKS               261       BEVERAGES           \n",
              "4   10        11        DRINKS               261       BEVERAGES           \n",
              "5   10        11        DRINKS               261       BEVERAGES           \n",
              "6   10        11        DRINKS               261       BEVERAGES           \n",
              "7   10        11        DRINKS               261       BEVERAGES           \n",
              "8   10        11        DRINKS               261       BEVERAGES           \n",
              "9   10        11        DRINKS               261       BEVERAGES           \n",
              "10  10        11        DRINKS               261       soft drinks         \n",
              "11  10        11        DRINKS               261       soft drinks         \n",
              "12  10        11        DRINKS               262       beers ciders        \n",
              "13  10        11        DRINKS               262       beers ciders        \n",
              "14  10        11        DRINKS               263       water               \n",
              "15  10        11        DRINKS               263       water               \n",
              "16  10        11        DRINKS               263       water               \n",
              "17  10        11        DRINKS               264       wine                \n",
              "18  10        11        DRINKS               264       wine                \n",
              "19  10        11        DRINKS               264       wine                \n",
              "20  10        11        DRINKS               265       wine                \n",
              "21  10        11        DRINKS               266       wine                \n",
              "22  10        11        DRINKS               266       wine                \n",
              "23  10        11        DRINKS               266       wine                \n",
              "24  10        11        DRINKS               266       wine                \n",
              "25  10        11        DRINKS               266       wine                \n",
              "26  10        11        DRINKS               267       champagne           \n",
              "27  10        11        DRINKS               268       aperifif            \n",
              "28  10        11        DRINKS               268       aperifif            \n",
              "29  10        11        DRINKS               268       aperifif            \n",
              "30  10        11        DRINKS               268       aperifif            \n",
              "⋮   ⋮         ⋮         ⋮                    ⋮         ⋮                   \n",
              "674 60        60        shoes                777       sports women        \n",
              "675 60        60        shoes                778       sports men          \n",
              "676 60        60        shoes                778       sports men          \n",
              "677 60        60        shoes                783       slippers kids       \n",
              "678 60        60        shoes                783       slippers kids       \n",
              "679 60        60        shoes                784       slippers women      \n",
              "680 60        60        shoes                784       slippers women      \n",
              "681 60        60        shoes                784       slippers women      \n",
              "682 60        60        shoes                786       slippers men        \n",
              "683 60        60        shoes                790       shoes accessories   \n",
              "684 60        60        shoes                790       shoes accessories   \n",
              "685 60        62        underwear            655       kids socks          \n",
              "686 60        62        underwear            655       kids socks          \n",
              "687 60        62        underwear            657       woman underwear     \n",
              "688 60        62        underwear            657       woman underwear     \n",
              "689 60        62        underwear            657       woman underwear     \n",
              "690 60        62        underwear            659       leggings            \n",
              "691 60        62        underwear            659       leggings            \n",
              "692 60        62        underwear            660       men underwear       \n",
              "693 60        62        underwear            660       men underwear       \n",
              "694 60        62        underwear            660       men underwear       \n",
              "695 60        62        underwear            661       men socks           \n",
              "696 60        62        underwear            661       men socks           \n",
              "697 60        62        underwear            661       men socks           \n",
              "698 90        91        telephone            910       AIR TIME VODAFONE   \n",
              "699 90        91        telephone            911       AIR TIME WIND       \n",
              "700 90        91        telephone            912       AIR TIME COSMOTE    \n",
              "701 90        91        telephone            913       AIR TIME Q          \n",
              "702 90        91        telephone            916       AIR TIME OTENET     \n",
              "703 90        91        telephone            920       prepaid card        \n",
              "    CategoryD CategoryDDescription       \n",
              "1    1        cola                       \n",
              "2    2        lime                       \n",
              "3    3        juice                      \n",
              "4    5        sport drinks               \n",
              "5    6        tea                        \n",
              "6    7        milk shake                 \n",
              "7    8        Syrup Concentrated         \n",
              "8    9        DIET / VEGETABLE JUICES    \n",
              "9   10        energy drinks              \n",
              "10  11        tea                        \n",
              "11  12        coffee                     \n",
              "12   1        beer                       \n",
              "13   2        cider                      \n",
              "14   1        stil                       \n",
              "15   2        sparkling water            \n",
              "16   3        tonic                      \n",
              "17   1        greek wine                 \n",
              "18   2        white (plastic bottle)     \n",
              "19   3        rose (plastic bottle)      \n",
              "20   1        red (plastic bottle)       \n",
              "21   1        white (glass bottle)       \n",
              "22   2        rose (glass bottle)        \n",
              "23   3        red (glass bottle)         \n",
              "24   4        sweet                      \n",
              "25   5        bio                        \n",
              "26   2        champagne                  \n",
              "27   1        ouzo                       \n",
              "28   2        campari                    \n",
              "29   4        Vermouth                   \n",
              "30   6        aperol                     \n",
              "⋮   ⋮         ⋮                          \n",
              "674  11       OTHER SPORTS               \n",
              "675   9       Track                      \n",
              "676  11       OTHER SPORTS               \n",
              "677  16       MULE GIRL                  \n",
              "678  17       MULE BOY                   \n",
              "679  16       MULE FLAT                  \n",
              "680  17       MULE WITH HEEL             \n",
              "681  20       ANATOMIC                   \n",
              "682  16       MULE                       \n",
              "683  27       INSOLES                    \n",
              "684  29       CORDS                      \n",
              "685 200       TIGHT SOCKS                \n",
              "686 203       SOCKS SHORT SPORTS         \n",
              "687   2       SET COTTON / LYCRA MNX     \n",
              "688   3       MICROFIB / SYNTHETI MNX SET\n",
              "689   9       underwear                  \n",
              "690 302       TIGHTS                     \n",
              "691 305       Socks MI-BAS               \n",
              "692  33       T-SHIRT                    \n",
              "693  46       underwear                  \n",
              "694  63       BOXER                      \n",
              "695 200       TIGHT SOCKS                \n",
              "696 202       short socks                \n",
              "697 203       SOCKS SHORT SPORTS         \n",
              "698   1       AIR TIME VODAFONE          \n",
              "699   1       AIR TIME WIND              \n",
              "700   1       AIR TIME COSMOTE           \n",
              "701   1       AIR TIME Q                 \n",
              "702   1       AIR TIME OTENET            \n",
              "703   1       prepaid card               "
            ],
            "text/latex": "A tibble: 703 × 7\n\\begin{tabular}{lllllll}\n CategoryA & CategoryB & CategoryBDescription & CategoryC & CategoryCDescription & CategoryD & CategoryDDescription\\\\\n <dbl> & <dbl> & <chr> & <dbl> & <chr> & <dbl> & <chr>\\\\\n\\hline\n\t 10 & 11 & DRINKS & 261 & BEVERAGES    &  1 & cola                   \\\\\n\t 10 & 11 & DRINKS & 261 & BEVERAGES    &  2 & lime                   \\\\\n\t 10 & 11 & DRINKS & 261 & BEVERAGES    &  3 & juice                  \\\\\n\t 10 & 11 & DRINKS & 261 & BEVERAGES    &  5 & sport drinks           \\\\\n\t 10 & 11 & DRINKS & 261 & BEVERAGES    &  6 & tea                    \\\\\n\t 10 & 11 & DRINKS & 261 & BEVERAGES    &  7 & milk shake             \\\\\n\t 10 & 11 & DRINKS & 261 & BEVERAGES    &  8 & Syrup Concentrated     \\\\\n\t 10 & 11 & DRINKS & 261 & BEVERAGES    &  9 & DIET / VEGETABLE JUICES\\\\\n\t 10 & 11 & DRINKS & 261 & BEVERAGES    & 10 & energy drinks          \\\\\n\t 10 & 11 & DRINKS & 261 & soft drinks  & 11 & tea                    \\\\\n\t 10 & 11 & DRINKS & 261 & soft drinks  & 12 & coffee                 \\\\\n\t 10 & 11 & DRINKS & 262 & beers ciders &  1 & beer                   \\\\\n\t 10 & 11 & DRINKS & 262 & beers ciders &  2 & cider                  \\\\\n\t 10 & 11 & DRINKS & 263 & water        &  1 & stil                   \\\\\n\t 10 & 11 & DRINKS & 263 & water        &  2 & sparkling water        \\\\\n\t 10 & 11 & DRINKS & 263 & water        &  3 & tonic                  \\\\\n\t 10 & 11 & DRINKS & 264 & wine         &  1 & greek wine             \\\\\n\t 10 & 11 & DRINKS & 264 & wine         &  2 & white (plastic bottle) \\\\\n\t 10 & 11 & DRINKS & 264 & wine         &  3 & rose (plastic bottle)  \\\\\n\t 10 & 11 & DRINKS & 265 & wine         &  1 & red (plastic bottle)   \\\\\n\t 10 & 11 & DRINKS & 266 & wine         &  1 & white (glass bottle)   \\\\\n\t 10 & 11 & DRINKS & 266 & wine         &  2 & rose (glass bottle)    \\\\\n\t 10 & 11 & DRINKS & 266 & wine         &  3 & red (glass bottle)     \\\\\n\t 10 & 11 & DRINKS & 266 & wine         &  4 & sweet                  \\\\\n\t 10 & 11 & DRINKS & 266 & wine         &  5 & bio                    \\\\\n\t 10 & 11 & DRINKS & 267 & champagne    &  2 & champagne              \\\\\n\t 10 & 11 & DRINKS & 268 & aperifif     &  1 & ouzo                   \\\\\n\t 10 & 11 & DRINKS & 268 & aperifif     &  2 & campari                \\\\\n\t 10 & 11 & DRINKS & 268 & aperifif     &  4 & Vermouth               \\\\\n\t 10 & 11 & DRINKS & 268 & aperifif     &  6 & aperol                 \\\\\n\t ⋮ & ⋮ & ⋮ & ⋮ & ⋮ & ⋮ & ⋮\\\\\n\t 60 & 60 & shoes     & 777 & sports women      &  11 & OTHER SPORTS               \\\\\n\t 60 & 60 & shoes     & 778 & sports men        &   9 & Track                      \\\\\n\t 60 & 60 & shoes     & 778 & sports men        &  11 & OTHER SPORTS               \\\\\n\t 60 & 60 & shoes     & 783 & slippers kids     &  16 & MULE GIRL                  \\\\\n\t 60 & 60 & shoes     & 783 & slippers kids     &  17 & MULE BOY                   \\\\\n\t 60 & 60 & shoes     & 784 & slippers women    &  16 & MULE FLAT                  \\\\\n\t 60 & 60 & shoes     & 784 & slippers women    &  17 & MULE WITH HEEL             \\\\\n\t 60 & 60 & shoes     & 784 & slippers women    &  20 & ANATOMIC                   \\\\\n\t 60 & 60 & shoes     & 786 & slippers men      &  16 & MULE                       \\\\\n\t 60 & 60 & shoes     & 790 & shoes accessories &  27 & INSOLES                    \\\\\n\t 60 & 60 & shoes     & 790 & shoes accessories &  29 & CORDS                      \\\\\n\t 60 & 62 & underwear & 655 & kids socks        & 200 & TIGHT SOCKS                \\\\\n\t 60 & 62 & underwear & 655 & kids socks        & 203 & SOCKS SHORT SPORTS         \\\\\n\t 60 & 62 & underwear & 657 & woman underwear   &   2 & SET COTTON / LYCRA MNX     \\\\\n\t 60 & 62 & underwear & 657 & woman underwear   &   3 & MICROFIB / SYNTHETI MNX SET\\\\\n\t 60 & 62 & underwear & 657 & woman underwear   &   9 & underwear                  \\\\\n\t 60 & 62 & underwear & 659 & leggings          & 302 & TIGHTS                     \\\\\n\t 60 & 62 & underwear & 659 & leggings          & 305 & Socks MI-BAS               \\\\\n\t 60 & 62 & underwear & 660 & men underwear     &  33 & T-SHIRT                    \\\\\n\t 60 & 62 & underwear & 660 & men underwear     &  46 & underwear                  \\\\\n\t 60 & 62 & underwear & 660 & men underwear     &  63 & BOXER                      \\\\\n\t 60 & 62 & underwear & 661 & men socks         & 200 & TIGHT SOCKS                \\\\\n\t 60 & 62 & underwear & 661 & men socks         & 202 & short socks                \\\\\n\t 60 & 62 & underwear & 661 & men socks         & 203 & SOCKS SHORT SPORTS         \\\\\n\t 90 & 91 & telephone & 910 & AIR TIME VODAFONE &   1 & AIR TIME VODAFONE          \\\\\n\t 90 & 91 & telephone & 911 & AIR TIME WIND     &   1 & AIR TIME WIND              \\\\\n\t 90 & 91 & telephone & 912 & AIR TIME COSMOTE  &   1 & AIR TIME COSMOTE           \\\\\n\t 90 & 91 & telephone & 913 & AIR TIME Q        &   1 & AIR TIME Q                 \\\\\n\t 90 & 91 & telephone & 916 & AIR TIME OTENET   &   1 & AIR TIME OTENET            \\\\\n\t 90 & 91 & telephone & 920 & prepaid card      &   1 & prepaid card               \\\\\n\\end{tabular}\n",
            "text/markdown": "\nA tibble: 703 × 7\n\n| CategoryA &lt;dbl&gt; | CategoryB &lt;dbl&gt; | CategoryBDescription &lt;chr&gt; | CategoryC &lt;dbl&gt; | CategoryCDescription &lt;chr&gt; | CategoryD &lt;dbl&gt; | CategoryDDescription &lt;chr&gt; |\n|---|---|---|---|---|---|---|\n| 10 | 11 | DRINKS | 261 | BEVERAGES    |  1 | cola                    |\n| 10 | 11 | DRINKS | 261 | BEVERAGES    |  2 | lime                    |\n| 10 | 11 | DRINKS | 261 | BEVERAGES    |  3 | juice                   |\n| 10 | 11 | DRINKS | 261 | BEVERAGES    |  5 | sport drinks            |\n| 10 | 11 | DRINKS | 261 | BEVERAGES    |  6 | tea                     |\n| 10 | 11 | DRINKS | 261 | BEVERAGES    |  7 | milk shake              |\n| 10 | 11 | DRINKS | 261 | BEVERAGES    |  8 | Syrup Concentrated      |\n| 10 | 11 | DRINKS | 261 | BEVERAGES    |  9 | DIET / VEGETABLE JUICES |\n| 10 | 11 | DRINKS | 261 | BEVERAGES    | 10 | energy drinks           |\n| 10 | 11 | DRINKS | 261 | soft drinks  | 11 | tea                     |\n| 10 | 11 | DRINKS | 261 | soft drinks  | 12 | coffee                  |\n| 10 | 11 | DRINKS | 262 | beers ciders |  1 | beer                    |\n| 10 | 11 | DRINKS | 262 | beers ciders |  2 | cider                   |\n| 10 | 11 | DRINKS | 263 | water        |  1 | stil                    |\n| 10 | 11 | DRINKS | 263 | water        |  2 | sparkling water         |\n| 10 | 11 | DRINKS | 263 | water        |  3 | tonic                   |\n| 10 | 11 | DRINKS | 264 | wine         |  1 | greek wine              |\n| 10 | 11 | DRINKS | 264 | wine         |  2 | white (plastic bottle)  |\n| 10 | 11 | DRINKS | 264 | wine         |  3 | rose (plastic bottle)   |\n| 10 | 11 | DRINKS | 265 | wine         |  1 | red (plastic bottle)    |\n| 10 | 11 | DRINKS | 266 | wine         |  1 | white (glass bottle)    |\n| 10 | 11 | DRINKS | 266 | wine         |  2 | rose (glass bottle)     |\n| 10 | 11 | DRINKS | 266 | wine         |  3 | red (glass bottle)      |\n| 10 | 11 | DRINKS | 266 | wine         |  4 | sweet                   |\n| 10 | 11 | DRINKS | 266 | wine         |  5 | bio                     |\n| 10 | 11 | DRINKS | 267 | champagne    |  2 | champagne               |\n| 10 | 11 | DRINKS | 268 | aperifif     |  1 | ouzo                    |\n| 10 | 11 | DRINKS | 268 | aperifif     |  2 | campari                 |\n| 10 | 11 | DRINKS | 268 | aperifif     |  4 | Vermouth                |\n| 10 | 11 | DRINKS | 268 | aperifif     |  6 | aperol                  |\n| ⋮ | ⋮ | ⋮ | ⋮ | ⋮ | ⋮ | ⋮ |\n| 60 | 60 | shoes     | 777 | sports women      |  11 | OTHER SPORTS                |\n| 60 | 60 | shoes     | 778 | sports men        |   9 | Track                       |\n| 60 | 60 | shoes     | 778 | sports men        |  11 | OTHER SPORTS                |\n| 60 | 60 | shoes     | 783 | slippers kids     |  16 | MULE GIRL                   |\n| 60 | 60 | shoes     | 783 | slippers kids     |  17 | MULE BOY                    |\n| 60 | 60 | shoes     | 784 | slippers women    |  16 | MULE FLAT                   |\n| 60 | 60 | shoes     | 784 | slippers women    |  17 | MULE WITH HEEL              |\n| 60 | 60 | shoes     | 784 | slippers women    |  20 | ANATOMIC                    |\n| 60 | 60 | shoes     | 786 | slippers men      |  16 | MULE                        |\n| 60 | 60 | shoes     | 790 | shoes accessories |  27 | INSOLES                     |\n| 60 | 60 | shoes     | 790 | shoes accessories |  29 | CORDS                       |\n| 60 | 62 | underwear | 655 | kids socks        | 200 | TIGHT SOCKS                 |\n| 60 | 62 | underwear | 655 | kids socks        | 203 | SOCKS SHORT SPORTS          |\n| 60 | 62 | underwear | 657 | woman underwear   |   2 | SET COTTON / LYCRA MNX      |\n| 60 | 62 | underwear | 657 | woman underwear   |   3 | MICROFIB / SYNTHETI MNX SET |\n| 60 | 62 | underwear | 657 | woman underwear   |   9 | underwear                   |\n| 60 | 62 | underwear | 659 | leggings          | 302 | TIGHTS                      |\n| 60 | 62 | underwear | 659 | leggings          | 305 | Socks MI-BAS                |\n| 60 | 62 | underwear | 660 | men underwear     |  33 | T-SHIRT                     |\n| 60 | 62 | underwear | 660 | men underwear     |  46 | underwear                   |\n| 60 | 62 | underwear | 660 | men underwear     |  63 | BOXER                       |\n| 60 | 62 | underwear | 661 | men socks         | 200 | TIGHT SOCKS                 |\n| 60 | 62 | underwear | 661 | men socks         | 202 | short socks                 |\n| 60 | 62 | underwear | 661 | men socks         | 203 | SOCKS SHORT SPORTS          |\n| 90 | 91 | telephone | 910 | AIR TIME VODAFONE |   1 | AIR TIME VODAFONE           |\n| 90 | 91 | telephone | 911 | AIR TIME WIND     |   1 | AIR TIME WIND               |\n| 90 | 91 | telephone | 912 | AIR TIME COSMOTE  |   1 | AIR TIME COSMOTE            |\n| 90 | 91 | telephone | 913 | AIR TIME Q        |   1 | AIR TIME Q                  |\n| 90 | 91 | telephone | 916 | AIR TIME OTENET   |   1 | AIR TIME OTENET             |\n| 90 | 91 | telephone | 920 | prepaid card      |   1 | prepaid card                |\n\n",
            "text/html": [
              "<table class=\"dataframe\">\n",
              "<caption>A tibble: 703 × 7</caption>\n",
              "<thead>\n",
              "\t<tr><th scope=col>CategoryA</th><th scope=col>CategoryB</th><th scope=col>CategoryBDescription</th><th scope=col>CategoryC</th><th scope=col>CategoryCDescription</th><th scope=col>CategoryD</th><th scope=col>CategoryDDescription</th></tr>\n",
              "\t<tr><th scope=col>&lt;dbl&gt;</th><th scope=col>&lt;dbl&gt;</th><th scope=col>&lt;chr&gt;</th><th scope=col>&lt;dbl&gt;</th><th scope=col>&lt;chr&gt;</th><th scope=col>&lt;dbl&gt;</th><th scope=col>&lt;chr&gt;</th></tr>\n",
              "</thead>\n",
              "<tbody>\n",
              "\t<tr><td>10</td><td>11</td><td>DRINKS</td><td>261</td><td>BEVERAGES   </td><td> 1</td><td>cola                   </td></tr>\n",
              "\t<tr><td>10</td><td>11</td><td>DRINKS</td><td>261</td><td>BEVERAGES   </td><td> 2</td><td>lime                   </td></tr>\n",
              "\t<tr><td>10</td><td>11</td><td>DRINKS</td><td>261</td><td>BEVERAGES   </td><td> 3</td><td>juice                  </td></tr>\n",
              "\t<tr><td>10</td><td>11</td><td>DRINKS</td><td>261</td><td>BEVERAGES   </td><td> 5</td><td>sport drinks           </td></tr>\n",
              "\t<tr><td>10</td><td>11</td><td>DRINKS</td><td>261</td><td>BEVERAGES   </td><td> 6</td><td>tea                    </td></tr>\n",
              "\t<tr><td>10</td><td>11</td><td>DRINKS</td><td>261</td><td>BEVERAGES   </td><td> 7</td><td>milk shake             </td></tr>\n",
              "\t<tr><td>10</td><td>11</td><td>DRINKS</td><td>261</td><td>BEVERAGES   </td><td> 8</td><td>Syrup Concentrated     </td></tr>\n",
              "\t<tr><td>10</td><td>11</td><td>DRINKS</td><td>261</td><td>BEVERAGES   </td><td> 9</td><td>DIET / VEGETABLE JUICES</td></tr>\n",
              "\t<tr><td>10</td><td>11</td><td>DRINKS</td><td>261</td><td>BEVERAGES   </td><td>10</td><td>energy drinks          </td></tr>\n",
              "\t<tr><td>10</td><td>11</td><td>DRINKS</td><td>261</td><td>soft drinks </td><td>11</td><td>tea                    </td></tr>\n",
              "\t<tr><td>10</td><td>11</td><td>DRINKS</td><td>261</td><td>soft drinks </td><td>12</td><td>coffee                 </td></tr>\n",
              "\t<tr><td>10</td><td>11</td><td>DRINKS</td><td>262</td><td>beers ciders</td><td> 1</td><td>beer                   </td></tr>\n",
              "\t<tr><td>10</td><td>11</td><td>DRINKS</td><td>262</td><td>beers ciders</td><td> 2</td><td>cider                  </td></tr>\n",
              "\t<tr><td>10</td><td>11</td><td>DRINKS</td><td>263</td><td>water       </td><td> 1</td><td>stil                   </td></tr>\n",
              "\t<tr><td>10</td><td>11</td><td>DRINKS</td><td>263</td><td>water       </td><td> 2</td><td>sparkling water        </td></tr>\n",
              "\t<tr><td>10</td><td>11</td><td>DRINKS</td><td>263</td><td>water       </td><td> 3</td><td>tonic                  </td></tr>\n",
              "\t<tr><td>10</td><td>11</td><td>DRINKS</td><td>264</td><td>wine        </td><td> 1</td><td>greek wine             </td></tr>\n",
              "\t<tr><td>10</td><td>11</td><td>DRINKS</td><td>264</td><td>wine        </td><td> 2</td><td>white (plastic bottle) </td></tr>\n",
              "\t<tr><td>10</td><td>11</td><td>DRINKS</td><td>264</td><td>wine        </td><td> 3</td><td>rose (plastic bottle)  </td></tr>\n",
              "\t<tr><td>10</td><td>11</td><td>DRINKS</td><td>265</td><td>wine        </td><td> 1</td><td>red (plastic bottle)   </td></tr>\n",
              "\t<tr><td>10</td><td>11</td><td>DRINKS</td><td>266</td><td>wine        </td><td> 1</td><td>white (glass bottle)   </td></tr>\n",
              "\t<tr><td>10</td><td>11</td><td>DRINKS</td><td>266</td><td>wine        </td><td> 2</td><td>rose (glass bottle)    </td></tr>\n",
              "\t<tr><td>10</td><td>11</td><td>DRINKS</td><td>266</td><td>wine        </td><td> 3</td><td>red (glass bottle)     </td></tr>\n",
              "\t<tr><td>10</td><td>11</td><td>DRINKS</td><td>266</td><td>wine        </td><td> 4</td><td>sweet                  </td></tr>\n",
              "\t<tr><td>10</td><td>11</td><td>DRINKS</td><td>266</td><td>wine        </td><td> 5</td><td>bio                    </td></tr>\n",
              "\t<tr><td>10</td><td>11</td><td>DRINKS</td><td>267</td><td>champagne   </td><td> 2</td><td>champagne              </td></tr>\n",
              "\t<tr><td>10</td><td>11</td><td>DRINKS</td><td>268</td><td>aperifif    </td><td> 1</td><td>ouzo                   </td></tr>\n",
              "\t<tr><td>10</td><td>11</td><td>DRINKS</td><td>268</td><td>aperifif    </td><td> 2</td><td>campari                </td></tr>\n",
              "\t<tr><td>10</td><td>11</td><td>DRINKS</td><td>268</td><td>aperifif    </td><td> 4</td><td>Vermouth               </td></tr>\n",
              "\t<tr><td>10</td><td>11</td><td>DRINKS</td><td>268</td><td>aperifif    </td><td> 6</td><td>aperol                 </td></tr>\n",
              "\t<tr><td>⋮</td><td>⋮</td><td>⋮</td><td>⋮</td><td>⋮</td><td>⋮</td><td>⋮</td></tr>\n",
              "\t<tr><td>60</td><td>60</td><td>shoes    </td><td>777</td><td>sports women     </td><td> 11</td><td>OTHER SPORTS               </td></tr>\n",
              "\t<tr><td>60</td><td>60</td><td>shoes    </td><td>778</td><td>sports men       </td><td>  9</td><td>Track                      </td></tr>\n",
              "\t<tr><td>60</td><td>60</td><td>shoes    </td><td>778</td><td>sports men       </td><td> 11</td><td>OTHER SPORTS               </td></tr>\n",
              "\t<tr><td>60</td><td>60</td><td>shoes    </td><td>783</td><td>slippers kids    </td><td> 16</td><td>MULE GIRL                  </td></tr>\n",
              "\t<tr><td>60</td><td>60</td><td>shoes    </td><td>783</td><td>slippers kids    </td><td> 17</td><td>MULE BOY                   </td></tr>\n",
              "\t<tr><td>60</td><td>60</td><td>shoes    </td><td>784</td><td>slippers women   </td><td> 16</td><td>MULE FLAT                  </td></tr>\n",
              "\t<tr><td>60</td><td>60</td><td>shoes    </td><td>784</td><td>slippers women   </td><td> 17</td><td>MULE WITH HEEL             </td></tr>\n",
              "\t<tr><td>60</td><td>60</td><td>shoes    </td><td>784</td><td>slippers women   </td><td> 20</td><td>ANATOMIC                   </td></tr>\n",
              "\t<tr><td>60</td><td>60</td><td>shoes    </td><td>786</td><td>slippers men     </td><td> 16</td><td>MULE                       </td></tr>\n",
              "\t<tr><td>60</td><td>60</td><td>shoes    </td><td>790</td><td>shoes accessories</td><td> 27</td><td>INSOLES                    </td></tr>\n",
              "\t<tr><td>60</td><td>60</td><td>shoes    </td><td>790</td><td>shoes accessories</td><td> 29</td><td>CORDS                      </td></tr>\n",
              "\t<tr><td>60</td><td>62</td><td>underwear</td><td>655</td><td>kids socks       </td><td>200</td><td>TIGHT SOCKS                </td></tr>\n",
              "\t<tr><td>60</td><td>62</td><td>underwear</td><td>655</td><td>kids socks       </td><td>203</td><td>SOCKS SHORT SPORTS         </td></tr>\n",
              "\t<tr><td>60</td><td>62</td><td>underwear</td><td>657</td><td>woman underwear  </td><td>  2</td><td>SET COTTON / LYCRA MNX     </td></tr>\n",
              "\t<tr><td>60</td><td>62</td><td>underwear</td><td>657</td><td>woman underwear  </td><td>  3</td><td>MICROFIB / SYNTHETI MNX SET</td></tr>\n",
              "\t<tr><td>60</td><td>62</td><td>underwear</td><td>657</td><td>woman underwear  </td><td>  9</td><td>underwear                  </td></tr>\n",
              "\t<tr><td>60</td><td>62</td><td>underwear</td><td>659</td><td>leggings         </td><td>302</td><td>TIGHTS                     </td></tr>\n",
              "\t<tr><td>60</td><td>62</td><td>underwear</td><td>659</td><td>leggings         </td><td>305</td><td>Socks MI-BAS               </td></tr>\n",
              "\t<tr><td>60</td><td>62</td><td>underwear</td><td>660</td><td>men underwear    </td><td> 33</td><td>T-SHIRT                    </td></tr>\n",
              "\t<tr><td>60</td><td>62</td><td>underwear</td><td>660</td><td>men underwear    </td><td> 46</td><td>underwear                  </td></tr>\n",
              "\t<tr><td>60</td><td>62</td><td>underwear</td><td>660</td><td>men underwear    </td><td> 63</td><td>BOXER                      </td></tr>\n",
              "\t<tr><td>60</td><td>62</td><td>underwear</td><td>661</td><td>men socks        </td><td>200</td><td>TIGHT SOCKS                </td></tr>\n",
              "\t<tr><td>60</td><td>62</td><td>underwear</td><td>661</td><td>men socks        </td><td>202</td><td>short socks                </td></tr>\n",
              "\t<tr><td>60</td><td>62</td><td>underwear</td><td>661</td><td>men socks        </td><td>203</td><td>SOCKS SHORT SPORTS         </td></tr>\n",
              "\t<tr><td>90</td><td>91</td><td>telephone</td><td>910</td><td>AIR TIME VODAFONE</td><td>  1</td><td>AIR TIME VODAFONE          </td></tr>\n",
              "\t<tr><td>90</td><td>91</td><td>telephone</td><td>911</td><td>AIR TIME WIND    </td><td>  1</td><td>AIR TIME WIND              </td></tr>\n",
              "\t<tr><td>90</td><td>91</td><td>telephone</td><td>912</td><td>AIR TIME COSMOTE </td><td>  1</td><td>AIR TIME COSMOTE           </td></tr>\n",
              "\t<tr><td>90</td><td>91</td><td>telephone</td><td>913</td><td>AIR TIME Q       </td><td>  1</td><td>AIR TIME Q                 </td></tr>\n",
              "\t<tr><td>90</td><td>91</td><td>telephone</td><td>916</td><td>AIR TIME OTENET  </td><td>  1</td><td>AIR TIME OTENET            </td></tr>\n",
              "\t<tr><td>90</td><td>91</td><td>telephone</td><td>920</td><td>prepaid card     </td><td>  1</td><td>prepaid card               </td></tr>\n",
              "</tbody>\n",
              "</table>\n"
            ]
          },
          "metadata": {
            "tags": []
          }
        }
      ]
    }
  ]
}